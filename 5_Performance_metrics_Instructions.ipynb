{
  "nbformat": 4,
  "nbformat_minor": 0,
  "metadata": {
    "colab": {
      "name": "Copy of 5_Performance_metrics_Instructions.ipynb",
      "provenance": [],
      "collapsed_sections": [],
      "toc_visible": true
    },
    "language_info": {
      "codemirror_mode": {
        "name": "ipython",
        "version": 3
      },
      "file_extension": ".py",
      "mimetype": "text/x-python",
      "name": "python",
      "nbconvert_exporter": "python",
      "pygments_lexer": "ipython3",
      "version": "3.6.8"
    },
    "kernelspec": {
      "display_name": "Python 3",
      "language": "python",
      "name": "python3"
    }
  },
  "cells": [
    {
      "cell_type": "markdown",
      "metadata": {
        "id": "s0Ej_bXyQvnV"
      },
      "source": [
        "# Compute performance metrics for the given Y and Y_score without sklearn"
      ]
    },
    {
      "cell_type": "code",
      "metadata": {
        "id": "4CHb6NE7Qvnc"
      },
      "source": [
        "import numpy as np\n",
        "import pandas as pd\n",
        "# other than these two you should not import any other packages"
      ],
      "execution_count": 1,
      "outputs": []
    },
    {
      "cell_type": "markdown",
      "metadata": {
        "id": "KbsWXuDaQvnq"
      },
      "source": [
        "<pre>\n",
        "<font color='red'><b>A.</b></font> Compute performance metrics for the given data <strong>5_a.csv</strong>\n",
        "   <b>Note 1:</b> in this data you can see number of positive points >> number of negatives points\n",
        "   <b>Note 2:</b> use pandas or numpy to read the data from <b>5_a.csv</b>\n",
        "   <b>Note 3:</b> you need to derive the class labels from given score</pre> $y^{pred}= \\text{[0 if y_score < 0.5 else 1]}$\n",
        "\n",
        "<pre>\n",
        "<ol>\n",
        "<li> Compute Confusion Matrix </li>\n",
        "<li> Compute F1 Score </li>\n",
        "<li> Compute AUC Score, you need to compute different thresholds and for each threshold compute tpr,fpr and then use               numpy.trapz(tpr_array, fpr_array) <a href='https://stackoverflow.com/q/53603376/4084039'>https://stackoverflow.com/q/53603376/4084039</a>, <a href='https://stackoverflow.com/a/39678975/4084039'>https://stackoverflow.com/a/39678975/4084039</a> Note: it should be numpy.trapz(tpr_array, fpr_array) not numpy.trapz(fpr_array, tpr_array)</li>\n",
        "<li> Compute Accuracy Score </li>\n",
        "</ol>\n",
        "</pre>"
      ]
    },
    {
      "cell_type": "code",
      "metadata": {
        "id": "WaFLW7oBQvnt",
        "colab": {
          "base_uri": "https://localhost:8080/"
        },
        "outputId": "e9065305-23d7-442e-dc98-37434e94a27b"
      },
      "source": [
        "# write your code here\r\n",
        "data = pd.read_csv(\"5_a.csv\")\r\n",
        "\r\n",
        "# Adding conditional column y_pred\r\n",
        "data['y_pred'] = np.where(data['y']<0.5, 0, 1)\r\n",
        "\r\n",
        "True_Positives = len(data.loc[(data['y_pred'] == 1) & (data['y'] == 1)])\r\n",
        "True_Negatives = len(data.loc[(data['y_pred'] == 0) & (data['y'] == 0)])\r\n",
        "False_Positives = len(data.loc[(data['y_pred'] == 1) & (data['y'] == 0)])\r\n",
        "False_Negatives = len(data.loc[(data['y_pred'] == 0) & (data['y'] == 1)])\r\n",
        "\r\n",
        "\r\n",
        "# Below data shows the confusion metric.\r\n",
        "print(\"Q 1 Answer Confusion Matrix\") \r\n",
        "print(\"True Positives : \", True_Positives)\r\n",
        "print(\"True Negatives : \", True_Negatives)\r\n",
        "print(\"False Positives : \", False_Positives)\r\n",
        "print(\"False Negatives : \", False_Negatives)\r\n",
        "\r\n",
        "#-----------------#\r\n",
        "\r\n",
        "# F1 Score\r\n",
        "precision = True_Positives/(True_Positives+False_Positives)\r\n",
        "recall = True_Positives/(True_Positives+False_Negatives)\r\n",
        "\r\n",
        "f1_score = 2*precision*recall/(precision+recall)\r\n",
        "\r\n",
        "print(\"\\n Q 2 Answer f1_score :\", f1_score)\r\n",
        "\r\n",
        "#-----------------#\r\n",
        "\r\n",
        "# Accuracy\r\n",
        "\r\n",
        "accuracy = (True_Positives+True_Negatives)/(True_Positives+True_Negatives+False_Negatives+False_Positives)\r\n",
        "\r\n",
        "#-----------------#\r\n",
        "#AUC\r\n",
        "data = data.sort_values(by=['proba'])\r\n",
        "prob = list(data['proba'].unique())\r\n",
        "prob = sorted(prob)\r\n",
        "TPR = []\r\n",
        "FPR = []\r\n",
        "\r\n",
        "for i in range(len(prob)):\r\n",
        "  True_Positives = len(data.loc[(data['proba'] >= prob[i]) & (data['y'] == 1)])\r\n",
        "  True_Negatives = len(data.loc[(data['proba'] < prob[i]) & (data['y'] == 0)])\r\n",
        "  False_Positives = len(data.loc[(data['proba'] >= prob[i]) & (data['y'] == 0)])\r\n",
        "  False_Negatives = len(data.loc[(data['proba'] < prob[i]) & (data['y'] == 1)])\r\n",
        "  TPR_value = True_Positives/(True_Positives+False_Negatives)\r\n",
        "  FPR_value = False_Positives/(False_Positives+True_Negatives)\r\n",
        "  TPR.append(TPR_value)\r\n",
        "  FPR.append(FPR_value)\r\n",
        "\r\n",
        "TPR, FPR = zip(*sorted(zip(TPR, FPR)))\r\n",
        "print(\"\\n Q 3 Answer auc score :\",  np.trapz(TPR, FPR))\r\n",
        "\r\n",
        "print(\"\\n Q 4 Answer Accuracy :\", accuracy)\r\n"
      ],
      "execution_count": 2,
      "outputs": [
        {
          "output_type": "stream",
          "text": [
            "Q 1 Answer Confusion Matrix\n",
            "True Positives :  10000\n",
            "True Negatives :  100\n",
            "False Positives :  0\n",
            "False Negatives :  0\n",
            "\n",
            " Q 2 Answer f1_score : 1.0\n",
            "\n",
            " Q 3 Answer auc score : 0.48829900000000004\n",
            "\n",
            " Q 4 Answer Accuracy : 1.0\n"
          ],
          "name": "stdout"
        }
      ]
    },
    {
      "cell_type": "markdown",
      "metadata": {
        "id": "V5KZem1BQvn2"
      },
      "source": [
        "<pre>\n",
        "<font color='red'><b>B.</b></font> Compute performance metrics for the given data <strong>5_b.csv</strong>\n",
        "   <b>Note 1:</b> in this data you can see number of positive points << number of negatives points\n",
        "   <b>Note 2:</b> use pandas or numpy to read the data from <b>5_b.csv</b>\n",
        "   <b>Note 3:</b> you need to derive the class labels from given score</pre> $y^{pred}= \\text{[0 if y_score < 0.5 else 1]}$\n",
        "\n",
        "<pre>\n",
        "<ol>\n",
        "<li> Compute Confusion Matrix </li>\n",
        "<li> Compute F1 Score </li>\n",
        "<li> Compute AUC Score, you need to compute different thresholds and for each threshold compute tpr,fpr and then use               numpy.trapz(tpr_array, fpr_array) <a href='https://stackoverflow.com/q/53603376/4084039'>https://stackoverflow.com/q/53603376/4084039</a>, <a href='https://stackoverflow.com/a/39678975/4084039'>https://stackoverflow.com/a/39678975/4084039</a></li>\n",
        "<li> Compute Accuracy Score </li>\n",
        "</ol>\n",
        "</pre>"
      ]
    },
    {
      "cell_type": "code",
      "metadata": {
        "id": "U2sKlq0YQvn5",
        "colab": {
          "base_uri": "https://localhost:8080/"
        },
        "outputId": "230faf79-c999-491d-9278-1ef582942adc"
      },
      "source": [
        "# write your code here\r\n",
        "data = pd.read_csv(\"5_b.csv\")\r\n",
        "\r\n",
        "# Adding conditional column y_pred\r\n",
        "data['y_pred'] = np.where(data['y']<0.5, 0, 1)\r\n",
        "\r\n",
        "True_Positives = len(data.loc[(data['y_pred'] == 1) & (data['y'] == 1)])\r\n",
        "True_Negatives = len(data.loc[(data['y_pred'] == 0) & (data['y'] == 0)])\r\n",
        "False_Positives = len(data.loc[(data['y_pred'] == 1) & (data['y'] == 0)])\r\n",
        "False_Negatives = len(data.loc[(data['y_pred'] == 0) & (data['y'] == 1)])\r\n",
        "\r\n",
        "\r\n",
        "# Below data shows the confusion metric.\r\n",
        "print(\"Q 1 Answer Confusion Matrix\") \r\n",
        "print(\"True Positives : \", True_Positives)\r\n",
        "print(\"True Negatives : \", True_Negatives)\r\n",
        "print(\"False Positives : \", False_Positives)\r\n",
        "print(\"False Negatives : \", False_Negatives)\r\n",
        "\r\n",
        "#-----------------#\r\n",
        "\r\n",
        "# F1 Score\r\n",
        "precision = True_Positives/(True_Positives+False_Positives)\r\n",
        "recall = True_Positives/(True_Positives+False_Negatives)\r\n",
        "\r\n",
        "f1_score = 2*precision*recall/(precision+recall)\r\n",
        "\r\n",
        "print(\"\\n Q 2 Answer f1_score :\", f1_score)\r\n",
        "\r\n",
        "#-----------------#\r\n",
        "\r\n",
        "# Accuracy\r\n",
        "\r\n",
        "accuracy = (True_Positives+True_Negatives)/(True_Positives+True_Negatives+False_Negatives+False_Positives)\r\n",
        "\r\n",
        "#-----------------#\r\n",
        "#AUC\r\n",
        "data = data.sort_values(by=['proba'])\r\n",
        "prob = list(data['proba'].unique())\r\n",
        "prob = sorted(prob)\r\n",
        "TPR = []\r\n",
        "FPR = []\r\n",
        "\r\n",
        "for i in range(len(prob)):\r\n",
        "  True_Positives = len(data.loc[(data['proba'] >= prob[i]) & (data['y'] == 1)])\r\n",
        "  True_Negatives = len(data.loc[(data['proba'] < prob[i]) & (data['y'] == 0)])\r\n",
        "  False_Positives = len(data.loc[(data['proba'] >= prob[i]) & (data['y'] == 0)])\r\n",
        "  False_Negatives = len(data.loc[(data['proba'] < prob[i]) & (data['y'] == 1)])\r\n",
        "  TPR_value = True_Positives/(True_Positives+False_Negatives)\r\n",
        "  FPR_value = False_Positives/(False_Positives+True_Negatives)\r\n",
        "  TPR.append(TPR_value)\r\n",
        "  FPR.append(FPR_value)\r\n",
        "\r\n",
        "TPR, FPR = zip(*sorted(zip(TPR, FPR)))\r\n",
        "print(\"\\n Q 3 Answer auc score :\",  np.trapz(TPR, FPR))\r\n",
        "\r\n",
        "print(\"\\n Q 4 Answer Accuracy :\", accuracy)\r\n"
      ],
      "execution_count": 3,
      "outputs": [
        {
          "output_type": "stream",
          "text": [
            "Q 1 Answer Confusion Matrix\n",
            "True Positives :  100\n",
            "True Negatives :  10000\n",
            "False Positives :  0\n",
            "False Negatives :  0\n",
            "\n",
            " Q 2 Answer f1_score : 1.0\n",
            "\n",
            " Q 3 Answer auc score : 0.9377570000000001\n",
            "\n",
            " Q 4 Answer Accuracy : 1.0\n"
          ],
          "name": "stdout"
        }
      ]
    },
    {
      "cell_type": "markdown",
      "metadata": {
        "id": "GiPGonTzQvoB"
      },
      "source": [
        "<font color='red'><b>C.</b></font> Compute the best threshold (similarly to ROC curve computation) of probability which gives lowest values of metric <b>A</b> for the given data <strong>5_c.csv</strong>\n",
        "<br>\n",
        "\n",
        "you will be predicting label of a data points like this: $y^{pred}= \\text{[0 if y_score < threshold  else 1]}$\n",
        "\n",
        "$ A = 500 \\times \\text{number of false negative} + 100 \\times \\text{numebr of false positive}$\n",
        "\n",
        "<pre>\n",
        "   <b>Note 1:</b> in this data you can see number of negative points > number of positive points\n",
        "   <b>Note 2:</b> use pandas or numpy to read the data from <b>5_c.csv</b>\n",
        "</pre>"
      ]
    },
    {
      "cell_type": "code",
      "metadata": {
        "id": "x5HIJzq1QvoE",
        "colab": {
          "base_uri": "https://localhost:8080/"
        },
        "outputId": "d520e26b-2c23-47cf-c9b8-19da83f6e6ae"
      },
      "source": [
        " # write your code\r\n",
        "\r\n",
        "data = pd.read_csv(\"5_c.csv\")\r\n",
        "\r\n",
        "data = data.sort_values(by=['prob'])\r\n",
        "prob = list(data['prob'].unique())\r\n",
        "prob = sorted(prob)\r\n",
        "\r\n",
        "values = []\r\n",
        "\r\n",
        "for i in range(len(prob)):\r\n",
        "  False_Positives = len(data.loc[(data['prob'] >= prob[i]) & (data['y'] == 0)])\r\n",
        "  False_Negatives = len(data.loc[(data['prob'] < prob[i]) & (data['y'] == 1)])\r\n",
        "  A = 500*False_Negatives + 100*False_Positives\r\n",
        "  values.append(A)\r\n",
        "\r\n",
        "values, prob = zip(*sorted(zip(values, prob)))\r\n",
        "\r\n",
        "print(\"The probability at which the equation returns maximum value of \",values[-1],\"is \",prob[-1])"
      ],
      "execution_count": 4,
      "outputs": [
        {
          "output_type": "stream",
          "text": [
            "The probability at which the equation returns maximum value of  523000 is  0.9577467989277196\n"
          ],
          "name": "stdout"
        }
      ]
    },
    {
      "cell_type": "markdown",
      "metadata": {
        "id": "sD4CcgjXQvoL"
      },
      "source": [
        "<pre>\n",
        "<font color='red'><b>D.</b></font> Compute performance metrics(for regression) for the given data <strong>5_d.csv</strong>\n",
        "    <b>Note 2:</b> use pandas or numpy to read the data from <b>5_d.csv</b>\n",
        "    <b>Note 1:</b> <b>5_d.csv</b> will having two columns Y and predicted_Y both are real valued features\n",
        "<ol>\n",
        "<li> Compute Mean Square Error </li>\n",
        "<li> Compute MAPE: https://www.youtube.com/watch?v=ly6ztgIkUxk</li>\n",
        "<li> Compute R^2 error: https://en.wikipedia.org/wiki/Coefficient_of_determination#Definitions </li>\n",
        "</ol>\n",
        "</pre>"
      ]
    },
    {
      "cell_type": "code",
      "metadata": {
        "colab": {
          "base_uri": "https://localhost:8080/"
        },
        "id": "RloBGc6bVS8a",
        "outputId": "3423cb86-4d5e-49fc-cf5d-72568fb65ecb"
      },
      "source": [
        " # write your code\r\n",
        "\r\n",
        "data = pd.read_csv(\"5_d.csv\")\r\n",
        "\r\n",
        "# Mean Squared Error\r\n",
        "mse = np.mean((data['y']-data['pred'])**2)\r\n",
        "print(\"Mean Squared Error :\",mse)\r\n",
        "\r\n",
        "# MAPE\r\n",
        "data['updated_actual'] =  np.where(data['y'] == 0, np.mean(data['y']), data['y'] )\r\n",
        "\r\n",
        "mape = np.mean((np.abs(data['y']-data['pred']))/data['updated_actual'])*100\r\n",
        "print(\"Mean absolute percentage error:\",mape)\r\n",
        "\r\n",
        "# r square\r\n",
        "s_res = sum((data['y']-data['pred'])**2)\r\n",
        "s_total = sum((data['y']-np.mean(data['y']))**2)\r\n",
        "r_squared = 1-(s_res/s_total)\r\n",
        "print(\"R squared error:\",r_squared)"
      ],
      "execution_count": 5,
      "outputs": [
        {
          "output_type": "stream",
          "text": [
            "Mean Squared Error : 177.16569974554707\n",
            "Mean absolute percentage error: 28.19946233081491\n",
            "R squared error: 0.9563582786990964\n"
          ],
          "name": "stdout"
        }
      ]
    }
  ]
}